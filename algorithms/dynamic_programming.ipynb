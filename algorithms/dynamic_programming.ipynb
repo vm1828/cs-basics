{
 "cells": [
  {
   "cell_type": "code",
   "execution_count": 1,
   "metadata": {},
   "outputs": [],
   "source": [
    "from time import sleep"
   ]
  },
  {
   "cell_type": "markdown",
   "metadata": {},
   "source": [
    "# INTRO"
   ]
  },
  {
   "cell_type": "markdown",
   "metadata": {},
   "source": [
    "Recursive functions use the call stack. When a function is called, it is added to the top of the call stack. Once the base case (or stopping condition) is met, the functions on the call stack begin to execute in reverse order."
   ]
  },
  {
   "cell_type": "code",
   "execution_count": 2,
   "metadata": {},
   "outputs": [
    {
     "name": "stdout",
     "output_type": "stream",
     "text": [
      "5 ...\n",
      "4 ...\n",
      "3 ...\n",
      "2 ...\n",
      "1 ...\n",
      "Done!\n",
      "foo 1\n",
      "foo 2\n",
      "foo 3\n",
      "foo 4\n",
      "foo 5\n"
     ]
    }
   ],
   "source": [
    "def countdown(n):\n",
    "    if n == 0:\n",
    "        print('Done!')\n",
    "    else:\n",
    "        print(n, '...')\n",
    "        sleep(0.3)\n",
    "        countdown(n-1)\n",
    "        sleep(0.3)\n",
    "        print('foo', n)\n",
    "\n",
    "countdown(5)"
   ]
  },
  {
   "cell_type": "code",
   "execution_count": 3,
   "metadata": {},
   "outputs": [],
   "source": [
    "# Tail call optimization is not supported in Python (for debuggability and simplicity).\n",
    "def find_in_array(array, target):\n",
    "    if not array:\n",
    "        return False\n",
    "    elif array[0] == target:\n",
    "        return True\n",
    "    return find_in_array(array[1:], target)\n"
   ]
  },
  {
   "cell_type": "markdown",
   "metadata": {},
   "source": [
    "# PROBLEMS"
   ]
  },
  {
   "cell_type": "markdown",
   "metadata": {},
   "source": [
    "## N-th Fibonacci Number"
   ]
  },
  {
   "cell_type": "markdown",
   "metadata": {},
   "source": [
    "$$\n",
    "F_1 = F_2 = 1\n",
    "$$  \n",
    "  \n",
    "$$\n",
    "F_n = F_{n-1} + F_{n-2}\n",
    "$$"
   ]
  },
  {
   "cell_type": "markdown",
   "metadata": {},
   "source": [
    "### Top-bottom approach"
   ]
  },
  {
   "cell_type": "code",
   "execution_count": 4,
   "metadata": {},
   "outputs": [
    {
     "name": "stdout",
     "output_type": "stream",
     "text": [
      "5th Fibonacci number: 55\n",
      "The function was executed 109 times\n"
     ]
    }
   ],
   "source": [
    "count = 0\n",
    "\n",
    "def fib_without_memoization(n):\n",
    "    global count\n",
    "    count += 1\n",
    "    if n <= 2:\n",
    "        result = 1\n",
    "    else:\n",
    "        result = fib_without_memoization(n - 1) + fib_without_memoization(n - 2)\n",
    "    return result\n",
    "\n",
    "print(f\"5th Fibonacci number: {fib_without_memoization(10)}\")\n",
    "print(f\"The function was executed {count} times\")"
   ]
  },
  {
   "cell_type": "markdown",
   "metadata": {},
   "source": [
    "Each call to $F_n$ makes two recursive calls: one to $F_{n-1}$ and one to $F_{n-2}$. This forms a binary recursion tree.\n",
    "\n",
    "Time complexity without memoization:  \n",
    "$$\n",
    "T(n) = T(n-1) + T(n-2) + O(1) = O(Φ^n) = (\\frac{1+\\sqrt{5}}{2})^n\n",
    "$$  \n",
    "  \n",
    "T(n) - actual time complexity function,  \n",
    "O($Ф^n$) - asymptotic growth in Big-O notation"
   ]
  },
  {
   "cell_type": "code",
   "execution_count": 5,
   "metadata": {},
   "outputs": [
    {
     "name": "stdout",
     "output_type": "stream",
     "text": [
      "5th Fibonacci number: 55\n",
      "The function was executed 17 times\n"
     ]
    }
   ],
   "source": [
    "count = 0\n",
    "memo = {}\n",
    "\n",
    "def fib_with_memoization(n):\n",
    "    global count\n",
    "    count += 1\n",
    "    if n in memo:\n",
    "        result = memo[n]\n",
    "    elif n <= 2:\n",
    "        result = 1\n",
    "    else:\n",
    "        result = fib_with_memoization(n - 1) + fib_with_memoization(n - 2)\n",
    "    memo[n] = result\n",
    "    return result\n",
    "\n",
    "print(f\"5th Fibonacci number: {fib_with_memoization(10)}\")\n",
    "print(f\"The function was executed {count} times\")"
   ]
  }
 ],
 "metadata": {
  "kernelspec": {
   "display_name": ".venv",
   "language": "python",
   "name": "python3"
  },
  "language_info": {
   "codemirror_mode": {
    "name": "ipython",
    "version": 3
   },
   "file_extension": ".py",
   "mimetype": "text/x-python",
   "name": "python",
   "nbconvert_exporter": "python",
   "pygments_lexer": "ipython3",
   "version": "3.10.12"
  }
 },
 "nbformat": 4,
 "nbformat_minor": 2
}
