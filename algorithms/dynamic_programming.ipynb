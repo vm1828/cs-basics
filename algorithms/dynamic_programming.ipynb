{
 "cells": [
  {
   "cell_type": "markdown",
   "metadata": {},
   "source": [
    "# Problems"
   ]
  },
  {
   "cell_type": "markdown",
   "metadata": {},
   "source": [
    "## N-th Fibonacci Number"
   ]
  },
  {
   "cell_type": "markdown",
   "metadata": {},
   "source": [
    "$$\n",
    "F_1 = F_2 = 1\n",
    "$$  \n",
    "  \n",
    "$$\n",
    "F_n = F_{n-1} + F_{n-2}\n",
    "$$"
   ]
  },
  {
   "cell_type": "markdown",
   "metadata": {},
   "source": [
    "### Top-bottom approach"
   ]
  },
  {
   "cell_type": "code",
   "execution_count": 11,
   "metadata": {},
   "outputs": [
    {
     "name": "stdout",
     "output_type": "stream",
     "text": [
      "5th Fibonacci number: 55\n",
      "The function was executed 109 times\n"
     ]
    }
   ],
   "source": [
    "count = 0\n",
    "\n",
    "def fib_without_memoization(n):\n",
    "    global count\n",
    "    count += 1\n",
    "    if n <= 2:\n",
    "        result = 1\n",
    "    else:\n",
    "        result = fib_without_memoization(n - 1) + fib_without_memoization(n - 2)\n",
    "    return result\n",
    "\n",
    "print(f\"5th Fibonacci number: {fib_without_memoization(10)}\")\n",
    "print(f\"The function was executed {count} times\")"
   ]
  },
  {
   "cell_type": "markdown",
   "metadata": {},
   "source": [
    "Time complexity without memoization:  \n",
    "$$\n",
    "T_n = T_{n-1} + T_{n-2} + O(1) = Φ^n = (\\frac{1+\\sqrt{5}}{2})^n\n",
    "$$"
   ]
  },
  {
   "cell_type": "code",
   "execution_count": 17,
   "metadata": {},
   "outputs": [
    {
     "name": "stdout",
     "output_type": "stream",
     "text": [
      "5th Fibonacci number: 55\n",
      "The function was executed 17 times\n"
     ]
    }
   ],
   "source": [
    "count = 0\n",
    "memo = {}\n",
    "\n",
    "def fib_with_memoization(n):\n",
    "    global count\n",
    "    count += 1\n",
    "    if n in memo:\n",
    "        result = memo[n]\n",
    "    elif n <= 2:\n",
    "        result = 1\n",
    "    else:\n",
    "        result = fib_with_memoization(n - 1) + fib_with_memoization(n - 2)\n",
    "    memo[n] = result\n",
    "    return result\n",
    "\n",
    "print(f\"5th Fibonacci number: {fib_with_memoization(10)}\")\n",
    "print(f\"The function was executed {count} times\")"
   ]
  },
  {
   "cell_type": "code",
   "execution_count": null,
   "metadata": {},
   "outputs": [],
   "source": []
  }
 ],
 "metadata": {
  "kernelspec": {
   "display_name": ".venv",
   "language": "python",
   "name": "python3"
  },
  "language_info": {
   "codemirror_mode": {
    "name": "ipython",
    "version": 3
   },
   "file_extension": ".py",
   "mimetype": "text/x-python",
   "name": "python",
   "nbconvert_exporter": "python",
   "pygments_lexer": "ipython3",
   "version": "3.9.0"
  }
 },
 "nbformat": 4,
 "nbformat_minor": 2
}
