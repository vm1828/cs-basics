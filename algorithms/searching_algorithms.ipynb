{
  "cells": [
    {
      "cell_type": "markdown",
      "metadata": {
        "id": "oVUs38M61uOL"
      },
      "source": [
        "# Sorting Algorithms"
      ]
    },
    {
      "cell_type": "code",
      "execution_count": 1,
      "metadata": {
        "id": "A1lDVZir1uOP"
      },
      "outputs": [],
      "source": [
        "unordered = [6, 3, 12, 27, 5, 1]\n",
        "ordered = [1, 3, 5, 6, 12, 27]"
      ]
    },
    {
      "cell_type": "markdown",
      "metadata": {
        "id": "6lxiZKOx1uOR"
      },
      "source": [
        "## Unordered list search"
      ]
    },
    {
      "cell_type": "markdown",
      "metadata": {
        "id": "d6a5Bh6I1uOS"
      },
      "source": [
        "Time complexity: O(n)  "
      ]
    },
    {
      "cell_type": "code",
      "execution_count": 2,
      "metadata": {
        "id": "w7vqzVt11uOS"
      },
      "outputs": [],
      "source": [
        "def find_item(L, e):\n",
        "    for i in range(0, len(L)):\n",
        "        if e == L[i]:\n",
        "            return i\n",
        "    return None"
      ]
    },
    {
      "cell_type": "code",
      "execution_count": 3,
      "metadata": {
        "colab": {
          "base_uri": "https://localhost:8080/"
        },
        "id": "cpofs2t91uOT",
        "outputId": "b15c4faa-7d1e-4c45-e916-6eabee2eee66"
      },
      "outputs": [
        {
          "name": "stdout",
          "output_type": "stream",
          "text": [
            "4\n",
            "None\n"
          ]
        }
      ],
      "source": [
        "print(find_item(unordered, 5))\n",
        "print(find_item(unordered, 1000000))"
      ]
    },
    {
      "cell_type": "markdown",
      "metadata": {
        "id": "Vxp0l6-F1uOU"
      },
      "source": [
        "## Binary searh"
      ]
    },
    {
      "cell_type": "markdown",
      "metadata": {
        "id": "yK_SmzXq1uOV"
      },
      "source": [
        "Time complexity: O(log n)  "
      ]
    },
    {
      "cell_type": "code",
      "execution_count": 4,
      "metadata": {
        "id": "HuptGza91uOW"
      },
      "outputs": [],
      "source": [
        "def binary_search_iterative(L, e):\n",
        "    lo = 0\n",
        "    hi = len(L) - 1\n",
        "\n",
        "    while lo <= hi:\n",
        "\n",
        "        mid = (lo + hi) // 2\n",
        "        \n",
        "        if L[mid] == e:\n",
        "            return mid\n",
        "        elif e > L[mid]:\n",
        "            lo = mid + 1\n",
        "        elif e < L[mid]:\n",
        "            hi = mid - 1\n",
        "\n",
        "    return None"
      ]
    },
    {
      "cell_type": "code",
      "execution_count": 5,
      "metadata": {},
      "outputs": [],
      "source": [
        "def binary_search_recursive(L, e):\n",
        "    \n",
        "    def binary_search_helper(L, e, lo, hi):\n",
        "        if lo > hi:\n",
        "            return None\n",
        "        mid = (lo + hi) // 2\n",
        "        if L[mid] == e:\n",
        "            return mid\n",
        "        elif e > L[mid]:\n",
        "            return binary_search_helper(L, e, mid+1, hi)\n",
        "        elif e < L[mid]:\n",
        "            return binary_search_helper(L, e, lo, mid-1)\n",
        "    \n",
        "    return binary_search_helper(L, e, 0, len(L)-1)"
      ]
    },
    {
      "cell_type": "code",
      "execution_count": 6,
      "metadata": {
        "colab": {
          "base_uri": "https://localhost:8080/"
        },
        "id": "VPsvFtyM1uOW",
        "outputId": "f680d314-e38b-43dc-e57f-cceaa97565c6"
      },
      "outputs": [
        {
          "name": "stdout",
          "output_type": "stream",
          "text": [
            "2\n",
            "None\n",
            "None\n"
          ]
        }
      ],
      "source": [
        "print(binary_search_iterative(ordered, 5))\n",
        "print(binary_search_iterative(ordered, 1000000))\n",
        "print(binary_search_iterative([], 5))"
      ]
    },
    {
      "cell_type": "code",
      "execution_count": 7,
      "metadata": {},
      "outputs": [
        {
          "name": "stdout",
          "output_type": "stream",
          "text": [
            "2\n",
            "None\n",
            "None\n"
          ]
        }
      ],
      "source": [
        "print(binary_search_recursive(ordered, 5))\n",
        "print(binary_search_recursive(ordered, 1000000))\n",
        "print(binary_search_recursive([], 5))"
      ]
    },
    {
      "cell_type": "markdown",
      "metadata": {
        "id": "eL2wzx3J1uOX"
      },
      "source": [
        "## Determine if a list is sorted"
      ]
    },
    {
      "cell_type": "code",
      "execution_count": 8,
      "metadata": {
        "id": "7UvQDDc71uOY"
      },
      "outputs": [],
      "source": [
        "def is_sorted(dataset):\n",
        "    # for i in range(0, len(lst)-1):\n",
        "    #     if (lst[i] > lst[i+1]):\n",
        "    #         return False\n",
        "    # return True\n",
        "\n",
        "    return all(dataset[i] <= dataset[i+1] for i in range(len(dataset)-1))"
      ]
    },
    {
      "cell_type": "code",
      "execution_count": 9,
      "metadata": {
        "colab": {
          "base_uri": "https://localhost:8080/"
        },
        "id": "0XmZYFe51uOY",
        "outputId": "9729305f-c781-4ec5-a692-1d90954cfbfc"
      },
      "outputs": [
        {
          "name": "stdout",
          "output_type": "stream",
          "text": [
            "False\n",
            "True\n"
          ]
        }
      ],
      "source": [
        "print(is_sorted(unordered))\n",
        "print(is_sorted(ordered))"
      ]
    }
  ],
  "metadata": {
    "colab": {
      "provenance": []
    },
    "kernelspec": {
      "display_name": ".venv",
      "language": "python",
      "name": "python3"
    },
    "language_info": {
      "codemirror_mode": {
        "name": "ipython",
        "version": 3
      },
      "file_extension": ".py",
      "mimetype": "text/x-python",
      "name": "python",
      "nbconvert_exporter": "python",
      "pygments_lexer": "ipython3",
      "version": "3.10.12"
    },
    "orig_nbformat": 4
  },
  "nbformat": 4,
  "nbformat_minor": 0
}
