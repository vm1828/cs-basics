{
  "cells": [
    {
      "cell_type": "markdown",
      "metadata": {
        "id": "0oDOe6Sld5Ti"
      },
      "source": [
        "# Setup"
      ]
    },
    {
      "cell_type": "code",
      "execution_count": 2,
      "metadata": {
        "colab": {
          "base_uri": "https://localhost:8080/"
        },
        "id": "Hl4k9_h2Zv1Z",
        "outputId": "4746a014-bd36-47c5-b639-1be8c11b39b6"
      },
      "outputs": [
        {
          "name": "stdout",
          "output_type": "stream",
          "text": [
            "[21, 4, 1, 24, 9, 8]\n",
            "[29, 18, 95, 14, 87, 70, 12, 76, 55, 5, 4, 93, 28, 30, 65, 78, 89, 72, 26, 94, 54, 99, 58, 92, 36, 1, 21, 91, 44, 75, 20, 97, 71, 96, 88, 49, 7, 23, 82, 62, 39, 17, 52, 3, 47, 86, 35, 8, 25, 6]\n"
          ]
        }
      ],
      "source": [
        "import random\n",
        "from timeit import timeit\n",
        "reruns = 1000\n",
        "\n",
        "random.seed(42)\n",
        "small_dataset = random.sample(range(1, 30), 6)\n",
        "large_dataset = random.sample(range(1, 100), 50)\n",
        "print(small_dataset)\n",
        "print(large_dataset)"
      ]
    },
    {
      "cell_type": "code",
      "execution_count": 3,
      "metadata": {
        "id": "q0oH6jpiSNTw"
      },
      "outputs": [],
      "source": [
        "def test_sorting_algorithm(A, func, *args):\n",
        "  # is_sorted = all(l[i] <= l[i+1] for i in range(len(l)-1))\n",
        "  actual = func(A, *args)\n",
        "  expected = sorted(A)\n",
        "  print(\"Test passed!\") if actual == expected else print(f\"Test failed: \\nExpected: {expected}, \\nActual: {actual}\")"
      ]
    },
    {
      "cell_type": "markdown",
      "metadata": {
        "id": "fGsBp7joeNfF"
      },
      "source": [
        "# Sorting Algorithms"
      ]
    },
    {
      "cell_type": "markdown",
      "metadata": {
        "id": "RKU7hXL_eR0R"
      },
      "source": [
        "## Info"
      ]
    },
    {
      "cell_type": "markdown",
      "metadata": {
        "id": "VzBvATrBbwuQ"
      },
      "source": [
        "### Time Complexities\n",
        "\n",
        "| Algorithm       | Best Case   | Average Case | Worst Case  |\n",
        "|------------------|-------------|--------------|-------------|\n",
        "| Bubble Sort      | O(n)       | O(n²)        | O(n²)       |\n",
        "| Selection Sort   | O(n²)      | O(n²)        | O(n²)       |\n",
        "| Insertion Sort    | O(n)       | O(n²)        | O(n²)       |\n",
        "| Merge Sort       | O(n log n) | O(n log n)   | O(n log n)  |\n",
        "| Quick Sort       | O(n log n) | O(n log n)   | O(n²)       |\n",
        "\n",
        "### Space Complexities\n",
        "\n",
        "| Algorithm       | Space Complexity |\n",
        "|------------------|------------------|\n",
        "| Bubble Sort      | O(1)             |\n",
        "| Selection Sort   | O(1)             |\n",
        "| Insertion Sort    | O(1)             |\n",
        "| Merge Sort       | O(n)             |\n",
        "| Quick Sort       | O(log n)         |\n",
        "\n",
        "### Stability\n",
        "\n",
        "- **Stable Sorts**: Merge Sort, Insertion Sort, Bubble Sort\n",
        "- **Unstable Sorts**: Quick Sort, Selection Sort\n",
        "\n",
        "### Summary\n",
        "\n",
        "- **Bubble Sort** and **Selection Sort** are inefficient for large datasets due to their O(n²) complexity.\n",
        "- **Insertion Sort** can perform better than these for small or nearly sorted datasets but has O(n²) complexity in the worst case.\n",
        "- **Merge Sort** and **Quick Sort** are more efficient with O(n log n) average time complexity and are preferred for larger datasets.\n",
        "- **Merge Sort** is stable and maintains the relative ordering of equal elements, while **Quick Sort** is faster on average but is not stable.\n"
      ]
    },
    {
      "cell_type": "markdown",
      "metadata": {
        "id": "DWh0agpcSuUc"
      },
      "source": [
        "![image.png](data:image/png;base64,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)"
      ]
    },
    {
      "cell_type": "markdown",
      "metadata": {
        "id": "6wfDuabzZv1d"
      },
      "source": [
        "## Bubble sort"
      ]
    },
    {
      "cell_type": "code",
      "execution_count": 4,
      "metadata": {
        "colab": {
          "base_uri": "https://localhost:8080/"
        },
        "id": "QF8I5Mbb3EXy",
        "outputId": "3089eccd-b561-4e35-8657-c602affd0b36"
      },
      "outputs": [
        {
          "name": "stdout",
          "output_type": "stream",
          "text": [
            "Test passed!\n",
            "Test passed!\n"
          ]
        }
      ],
      "source": [
        "def bubble_sort(A):\n",
        "  A = A.copy()\n",
        "\n",
        "  for i in range(len(A)-1, 0, -1):\n",
        "    for j in range(i):\n",
        "      if A[j] > A[j+1]:\n",
        "        A[j], A[j+1] = A[j+1], A[j]\n",
        "\n",
        "  return A\n",
        "\n",
        "test_sorting_algorithm([], bubble_sort)\n",
        "test_sorting_algorithm(small_dataset, bubble_sort)"
      ]
    },
    {
      "cell_type": "markdown",
      "metadata": {
        "id": "5enn2nSwZv1c"
      },
      "source": [
        "## Selection sort"
      ]
    },
    {
      "cell_type": "markdown",
      "metadata": {},
      "source": [
        "## Iterative"
      ]
    },
    {
      "cell_type": "markdown",
      "metadata": {
        "id": "j6NknGTCS2TN"
      },
      "source": [
        "Selection sort works by making sure all the numbers in the unsorted segment of the array always stay greater than or equal to the numbers in the sorted segment of the array."
      ]
    },
    {
      "cell_type": "markdown",
      "metadata": {
        "id": "rEE40jqWKlWq"
      },
      "source": [
        "![image.png](data:image/png;base64,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)"
      ]
    },
    {
      "cell_type": "code",
      "execution_count": 5,
      "metadata": {
        "colab": {
          "base_uri": "https://localhost:8080/"
        },
        "id": "VTtoZbjz4KVK",
        "outputId": "d0bd4d0e-7964-4211-836d-8207244e3f9e"
      },
      "outputs": [
        {
          "name": "stdout",
          "output_type": "stream",
          "text": [
            "Test passed!\n",
            "Test passed!\n"
          ]
        }
      ],
      "source": [
        "def selection_sort(A):\n",
        "  A = A.copy()\n",
        "\n",
        "  for i in range(len(A)-1): # last item will automatically be in correct position\n",
        "    min_i = i\n",
        "    for j in range(i+1, len(A)):\n",
        "      if A[j] < A[min_i]:\n",
        "        min_i = j\n",
        "    A[i], A[min_i] = A[min_i], A[i]\n",
        "  return A\n",
        "\n",
        "test_sorting_algorithm([], selection_sort)\n",
        "test_sorting_algorithm(small_dataset, selection_sort)"
      ]
    },
    {
      "cell_type": "markdown",
      "metadata": {},
      "source": [
        "## Recursive"
      ]
    },
    {
      "cell_type": "code",
      "execution_count": 6,
      "metadata": {},
      "outputs": [
        {
          "name": "stdout",
          "output_type": "stream",
          "text": [
            "Test passed!\n",
            "Test passed!\n"
          ]
        }
      ],
      "source": [
        "def prefix_max(A, i):\n",
        "    \"\"\"Return index of max value in A[:i+1]\"\"\"\n",
        "    if i > 0:\n",
        "        j = prefix_max(A, i-1)\n",
        "        if A[i] < A[j]:\n",
        "            return j\n",
        "    return i\n",
        "\n",
        "def selection_sort_recursive_alg(A, i=None):\n",
        "    \"\"\"Sort A[:i+1]\"\"\"\n",
        "    if i is None:\n",
        "        i = len(A) - 1\n",
        "    if i > 0:\n",
        "        j = prefix_max(A, i)\n",
        "        A[i], A[j] = A[j], A[i]\n",
        "        selection_sort_recursive_alg(A, i-1)\n",
        "\n",
        "def selection_sort_recursive(A):\n",
        "    selection_sort_recursive_alg(A)\n",
        "    return A\n",
        "\n",
        "l = [3, 2, 5, 2, 6, 7, 1]\n",
        "\n",
        "test_sorting_algorithm([], selection_sort_recursive)\n",
        "test_sorting_algorithm(small_dataset, selection_sort_recursive)"
      ]
    },
    {
      "cell_type": "markdown",
      "metadata": {
        "id": "JCpMPMRleDEa"
      },
      "source": [
        "## Insertion sort  \n",
        "  \n",
        "Time complexity: quadratic O(n^2)"
      ]
    },
    {
      "cell_type": "markdown",
      "metadata": {
        "id": "IY-HLD0whx04"
      },
      "source": [
        "![image.png](data:image/png;base64,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)"
      ]
    },
    {
      "cell_type": "code",
      "execution_count": 7,
      "metadata": {
        "colab": {
          "base_uri": "https://localhost:8080/"
        },
        "id": "jcKJifdAZCnf",
        "outputId": "056e82c7-8fcb-4c94-b3fe-ec57409b033f"
      },
      "outputs": [
        {
          "name": "stdout",
          "output_type": "stream",
          "text": [
            "Test passed!\n",
            "Test passed!\n"
          ]
        }
      ],
      "source": [
        "def insertion_sort(A):\n",
        "  A = A.copy()\n",
        "\n",
        "  for i in range(1, len(A)):\n",
        "    key = A[i] # store the current element as the key to be inserted in the right position\n",
        "    j = i-1\n",
        "    while j >= 0 and key < A[j]: # move elements greater than key one position ahead\n",
        "      A[j+1] = A[j]\n",
        "      j -= 1\n",
        "    A[j+1] = key # insert key to the right position\n",
        "\n",
        "  return A\n",
        "\n",
        "test_sorting_algorithm([], insertion_sort)\n",
        "test_sorting_algorithm(small_dataset, insertion_sort)"
      ]
    },
    {
      "cell_type": "markdown",
      "metadata": {
        "id": "cf6F6qq8Zv1f"
      },
      "source": [
        "## Merge sort\n",
        "\n",
        "Time complexity: linearithmic O(n log n)  \n",
        "  \n",
        "- Divide-and-conquer algorithm\n",
        "- Breaks a dataset into individual pieces and merges them\n",
        "- Uses recursion to operate on datasets\n",
        "- Performs well on large sets of data"
      ]
    },
    {
      "cell_type": "code",
      "execution_count": 8,
      "metadata": {
        "colab": {
          "base_uri": "https://localhost:8080/"
        },
        "id": "VcRxt_oRZv1f",
        "outputId": "7d6b1392-ec4b-4550-b4d9-23f7eaaef235"
      },
      "outputs": [
        {
          "name": "stdout",
          "output_type": "stream",
          "text": [
            "Test passed!\n"
          ]
        }
      ],
      "source": [
        "def merge_sort(A):\n",
        "\n",
        "    # breaking condition\n",
        "    if len(A) > 1:\n",
        "        mid = len(A) // 2\n",
        "        leftarr = A[:mid]\n",
        "        rightarray = A[mid:]\n",
        "\n",
        "        # recursively break down the arrays\n",
        "        merge_sort(leftarr)\n",
        "        merge_sort(rightarray)\n",
        "\n",
        "        # perform the merging\n",
        "        i = 0     # index into the left array\n",
        "        j = 0     # index into the right array\n",
        "        k = 0     # index into merged array\n",
        "        # while both arrays have content\n",
        "        while i < len(leftarr) and j < len(rightarray):\n",
        "            if leftarr[i] < rightarray[j]:\n",
        "                A[k] = leftarr[i]\n",
        "                i += 1\n",
        "            else:\n",
        "                A[k] = rightarray[j]\n",
        "                j += 1\n",
        "            k += 1\n",
        "\n",
        "        # if the left array still has values, add them\n",
        "        while i < len(leftarr):\n",
        "            A[k] = leftarr[i]\n",
        "            i += 1\n",
        "            k += 1\n",
        "        # if the right array still has values, add them\n",
        "        while j < len(rightarray):\n",
        "            A[k] = rightarray[j]\n",
        "            j += 1\n",
        "            k += 1\n",
        "\n",
        "    return A\n",
        "\n",
        "\n",
        "# def merge(l1, l2):\n",
        "#     \"\"\"Merge two arrays\"\"\"\n",
        "#     result = []\n",
        "#     i = j = 0\n",
        "#     while i < len(l1) and j < len(l2):\n",
        "#         if l1[i] < l2[j]:\n",
        "#             result.append(l1[i])\n",
        "#             i += 1\n",
        "#         else:\n",
        "#             result.append(l2[j])\n",
        "#             j += 1\n",
        "#     while i < len(l1):\n",
        "#         result.append(l1[i])\n",
        "#         i += 1\n",
        "#     while j < len(l2):\n",
        "#         result.append(l2[j])\n",
        "#         j += 1\n",
        "#     return result\n",
        "\n",
        "test_sorting_algorithm(small_dataset, merge_sort)"
      ]
    },
    {
      "cell_type": "markdown",
      "metadata": {
        "id": "K0tnZAPZZv1g"
      },
      "source": [
        "## Quicksort\n",
        "\n",
        "Time complexity: linearithmic O(n log n)\n",
        "  \n",
        "- Divide-and-conquer algorithm\n",
        "- Uses recursion to perform sorting\n",
        "- Generally performs better than merge sort\n",
        "- Operates in place on the data\n",
        "- Trade-off is that the worst case scenario is O(n<sup>2</sup>)when data is mostly sorted already"
      ]
    },
    {
      "cell_type": "code",
      "execution_count": 9,
      "metadata": {
        "colab": {
          "base_uri": "https://localhost:8080/"
        },
        "id": "PfpAr9gzZv1h",
        "outputId": "f104b4d7-bb0d-40ba-9d4c-d2d3f0567fc9"
      },
      "outputs": [
        {
          "name": "stdout",
          "output_type": "stream",
          "text": [
            "Test passed!\n",
            "Test passed!\n"
          ]
        }
      ],
      "source": [
        "def partition(datavalues, first, last):\n",
        "    # choose the first item as the pivot point\n",
        "    pivotvalue = datavalues[first]\n",
        "    # establish the upper and lower indexes\n",
        "    lower = first + 1\n",
        "    upper = last\n",
        "\n",
        "    # start searching for the crossing point\n",
        "    done = False\n",
        "    while not done:\n",
        "        # advance the lower index\n",
        "        while lower <= upper and datavalues[lower] <= pivotvalue:\n",
        "            lower += 1\n",
        "\n",
        "        # advance the upper index\n",
        "        while datavalues[upper] >= pivotvalue and upper >= lower:\n",
        "            upper -= 1\n",
        "\n",
        "        # if the two indexes cross, we have found the split point\n",
        "        if upper < lower:\n",
        "            done = True\n",
        "        else:\n",
        "            datavalues[lower], datavalues[upper] = datavalues[upper], datavalues[lower]\n",
        "\n",
        "    # when the split point is found, exchange the pivot value\n",
        "    datavalues[first], datavalues[upper] = datavalues[upper], datavalues[first]\n",
        "\n",
        "    # return the split point index\n",
        "    return upper\n",
        "\n",
        "def quick_sort(dataset, first, last):\n",
        "    if first < last:\n",
        "        # calculate the split point\n",
        "        pivotIdx = partition(dataset, first, last)\n",
        "\n",
        "        # sort the two partitions\n",
        "        quick_sort(dataset, first, pivotIdx-1)\n",
        "        quick_sort(dataset, pivotIdx+1, last)\n",
        "    return dataset\n",
        "\n",
        "test_sorting_algorithm([], quick_sort, 0, 0)\n",
        "test_sorting_algorithm(small_dataset.copy(), quick_sort, 0, len(small_dataset)-1)"
      ]
    },
    {
      "cell_type": "markdown",
      "metadata": {
        "id": "jTSwh6U1Zv1h"
      },
      "source": [
        "## Compare performance (small dataset)"
      ]
    },
    {
      "cell_type": "code",
      "execution_count": 10,
      "metadata": {
        "colab": {
          "base_uri": "https://localhost:8080/"
        },
        "id": "BT6uwyEMZv1i",
        "outputId": "2788ab57-2fd1-4cfa-8d0a-90543e0722de"
      },
      "outputs": [
        {
          "name": "stdout",
          "output_type": "stream",
          "text": [
            "Bubble sort:\n",
            "0.004045932000735775\n",
            "Selection sort:\n",
            "0.005410212001152104\n",
            "Insertion sort:\n",
            "0.002042947000518325\n",
            "Merge sort:\n",
            "0.01124430200070492\n",
            "Quick sort:\n",
            "0.006399964000593172\n"
          ]
        }
      ],
      "source": [
        "print('Bubble sort:')\n",
        "print(timeit(f'bubble_sort({small_dataset})', 'from __main__ import bubble_sort', number=reruns))\n",
        "\n",
        "print('Selection sort:')\n",
        "print(timeit(f'selection_sort({small_dataset})', 'from __main__ import selection_sort', number=reruns))\n",
        "\n",
        "print('Insertion sort:')\n",
        "print(timeit(f'insertion_sort({small_dataset})', 'from __main__ import insertion_sort', number=reruns))\n",
        "\n",
        "print('Merge sort:')\n",
        "print(timeit(f'merge_sort({small_dataset})', 'from __main__ import merge_sort', number=reruns))\n",
        "\n",
        "print('Quick sort:')\n",
        "print(timeit(f'quick_sort({small_dataset}, 0, {str(len(small_dataset)-1)})', 'from __main__ import quick_sort', number=reruns))\n"
      ]
    },
    {
      "cell_type": "markdown",
      "metadata": {
        "id": "a8jDTMt6Zv1i"
      },
      "source": [
        "## Compare performance (large dataset)"
      ]
    },
    {
      "cell_type": "code",
      "execution_count": 11,
      "metadata": {
        "colab": {
          "base_uri": "https://localhost:8080/"
        },
        "id": "i0Z64ZNsZv1j",
        "outputId": "300c6482-797a-4f23-f53a-291c0311ccd9"
      },
      "outputs": [
        {
          "name": "stdout",
          "output_type": "stream",
          "text": [
            "Bubble sort:\n",
            "0.2060617490005825\n",
            "Selection sort:\n",
            "0.08816209899850946\n",
            "Selection sort (recursion):\n",
            "0.24154495400034648\n",
            "Insertion sort:\n",
            "0.08858427300037874\n",
            "Merge sort:\n",
            "0.09816085800048313\n",
            "Quick sort:\n",
            "0.05873547200098983\n"
          ]
        }
      ],
      "source": [
        "print('Bubble sort:')\n",
        "print(timeit(f'bubble_sort({large_dataset})', 'from __main__ import bubble_sort', number=reruns))\n",
        "\n",
        "print('Selection sort:')\n",
        "print(timeit(f'selection_sort({large_dataset})', 'from __main__ import selection_sort', number=reruns))\n",
        "\n",
        "print('Selection sort (recursion):')\n",
        "print(timeit(f'selection_sort_recursive({large_dataset})', 'from __main__ import selection_sort_recursive', number=reruns))\n",
        "\n",
        "print('Insertion sort:')\n",
        "print(timeit(f'insertion_sort({large_dataset})', 'from __main__ import insertion_sort', number=reruns))\n",
        "\n",
        "print('Merge sort:')\n",
        "print(timeit(f'merge_sort({large_dataset})', 'from __main__ import merge_sort', number=reruns))\n",
        "\n",
        "print('Quick sort:')\n",
        "print(timeit(f'quick_sort({large_dataset}, 0, {str(len(large_dataset)-1)})', 'from __main__ import quick_sort', number=reruns))"
      ]
    },
    {
      "cell_type": "code",
      "execution_count": null,
      "metadata": {},
      "outputs": [],
      "source": []
    }
  ],
  "metadata": {
    "colab": {
      "provenance": []
    },
    "kernelspec": {
      "display_name": ".venv",
      "language": "python",
      "name": "python3"
    },
    "language_info": {
      "codemirror_mode": {
        "name": "ipython",
        "version": 3
      },
      "file_extension": ".py",
      "mimetype": "text/x-python",
      "name": "python",
      "nbconvert_exporter": "python",
      "pygments_lexer": "ipython3",
      "version": "3.10.12"
    },
    "orig_nbformat": 4,
    "vscode": {
      "interpreter": {
        "hash": "b391c3d66e7cdcd5c2a5ce5e3c0ae4d73a495d78b8a59ddddcc985ac8a7ff4e9"
      }
    }
  },
  "nbformat": 4,
  "nbformat_minor": 0
}
