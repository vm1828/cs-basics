{
 "cells": [
  {
   "cell_type": "markdown",
   "metadata": {},
   "source": [
    "# SEQUENCE"
   ]
  },
  {
   "cell_type": "markdown",
   "metadata": {},
   "source": [
    "## Static Sequence Interface"
   ]
  },
  {
   "cell_type": "markdown",
   "metadata": {},
   "source": [
    "Operations:\n",
    "- build(x̄)\n",
    "- len()\n",
    "- iter_seq()\n",
    "- get_at(i)\n",
    "- set_at(i, x)"
   ]
  },
  {
   "cell_type": "markdown",
   "metadata": {},
   "source": [
    "|                   | Static (get/set) | insert_first(x) / delete_first() | insert_last(x) / delete_last() | insert_at(i, x) / delete_at(i) |\n",
    "| ----------------- | ---------------- | -------------------------------- | ------------------------------ | ------------------------------ |\n",
    "| **Array**         | 1                | n                                | n                              | n                              |\n",
    "| **Linked List**   | n                | 1                                | n                              | n                              |\n",
    "| **Dynamic Array** | 1                | n                                | 1 (amortized)                  | n                              |\n"
   ]
  },
  {
   "cell_type": "markdown",
   "metadata": {},
   "source": [
    "### Static array"
   ]
  },
  {
   "cell_type": "markdown",
   "metadata": {},
   "source": [
    "Static operations:\n",
    "- O(1) - get_at/set_at/len\n",
    "- O(n) - build/iter_seq\n",
    "  - explicit (zero) initialization\n",
    "  - uninitialized allocation\n",
    "  \n",
    "Dynamic operations:\n",
    "- Θ(n) - insert_first/delete_first\n",
    "- Θ(n) - insert_last/delete_last\n",
    "- O(n) - insert_at/delete_at"
   ]
  },
  {
   "cell_type": "markdown",
   "metadata": {},
   "source": [
    "## Dynamic Sequence Interface"
   ]
  },
  {
   "cell_type": "markdown",
   "metadata": {},
   "source": [
    "Operations:\n",
    "- insert_at(i, x)\n",
    "- delete_at(i)"
   ]
  },
  {
   "cell_type": "markdown",
   "metadata": {},
   "source": [
    "### Linked list"
   ]
  },
  {
   "cell_type": "markdown",
   "metadata": {},
   "source": [
    "Dynamic operations:\n",
    "- O(1) - insert_first/delete_first\n",
    "- O(n) - insert_last/delete_last\n",
    "- O(n) - insert_at/delete_at\n",
    "  \n",
    "Static operations:\n",
    "- O(n) get_at/set_at"
   ]
  },
  {
   "cell_type": "markdown",
   "metadata": {},
   "source": [
    "### Dynamic array"
   ]
  },
  {
   "cell_type": "markdown",
   "metadata": {},
   "source": [
    "Dynamic operations:\n",
    "- O(n) - insert_first/delete_first\n",
    "- O(1) - insert_last/delete_last (amortized)\n",
    "- O(n) - insert_at/delete_at\n",
    "  \n",
    "Static operations:\n",
    "- O(1) get_at/set_at"
   ]
  },
  {
   "cell_type": "markdown",
   "metadata": {},
   "source": []
  }
 ],
 "metadata": {
  "kernelspec": {
   "display_name": ".venv",
   "language": "python",
   "name": "python3"
  },
  "language_info": {
   "codemirror_mode": {
    "name": "ipython",
    "version": 3
   },
   "file_extension": ".py",
   "mimetype": "text/x-python",
   "name": "python",
   "nbconvert_exporter": "python",
   "pygments_lexer": "ipython3",
   "version": "3.9.0"
  }
 },
 "nbformat": 4,
 "nbformat_minor": 2
}
